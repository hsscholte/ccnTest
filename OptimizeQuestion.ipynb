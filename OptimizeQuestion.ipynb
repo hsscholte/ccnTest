{
  "nbformat": 4,
  "nbformat_minor": 0,
  "metadata": {
    "colab": {
      "name": "OptimizeQuestion.ipynb",
      "provenance": [],
      "include_colab_link": true
    },
    "kernelspec": {
      "name": "python3",
      "display_name": "Python 3"
    }
  },
  "cells": [
    {
      "cell_type": "markdown",
      "metadata": {
        "id": "view-in-github",
        "colab_type": "text"
      },
      "source": [
        "<a href=\"https://colab.research.google.com/github/hsscholte/ccnTest/blob/master/OptimizeQuestion.ipynb\" target=\"_parent\"><img src=\"https://colab.research.google.com/assets/colab-badge.svg\" alt=\"Open In Colab\"/></a>"
      ]
    },
    {
      "cell_type": "code",
      "metadata": {
        "id": "poLa7wkuP1yo",
        "colab_type": "code",
        "colab": {}
      },
      "source": [
        "from __future__ import print_function\n",
        "import keras, random\n",
        "from keras.datasets import mnist\n",
        "from keras.models import Sequential\n",
        "from keras.layers import Dense, Dropout, Flatten\n",
        "from keras.layers import Conv2D, MaxPooling2D\n",
        "from keras import backend as K\n",
        "\n",
        "# the data, split between train and test sets\n",
        "(x_train, y_train), (x_test, y_test) = mnist.load_data()\n",
        "\n",
        "# input image dimensions\n",
        "img_rows, img_cols = 28, 28\n",
        "num_classes = 10\n",
        "\n",
        "x_train = x_train.reshape(x_train.shape[0], img_rows, img_cols, 1)\n",
        "x_test = x_test.reshape(x_test.shape[0], img_rows, img_cols, 1)\n",
        "input_shape = (img_rows, img_cols, 1)\n",
        "\n",
        "# convert class vectors to binary class matrices\n",
        "y_train = keras.utils.to_categorical(y_train, num_classes)\n",
        "y_test = keras.utils.to_categorical(y_test, num_classes)\n",
        "\n",
        "# enter the seed you got below\n",
        "random.seed(600)\n",
        "numberListX = list(range(60000))\n",
        "numberListY = list(range(10000))\n",
        "random.shuffle(numberListX)\n",
        "random.shuffle(numberListY)\n",
        "\n",
        "# reduce dataset in a controlled maner (and unique for your seed)\n",
        "x_train = x_train[numberListX[0:10000],:,:,:]\n",
        "x_val = x_test[numberListY[0:2000],:,:,:]\n",
        "x_test = x_test[numberListY[2000:4000],:,:,:]\n",
        "\n",
        "y_train = y_train[numberListX[0:10000]]\n",
        "y_val = y_test[numberListY[0:2000]]\n",
        "y_test = y_test[numberListY[2000:4000]]\n"
      ],
      "execution_count": 0,
      "outputs": []
    },
    {
      "cell_type": "code",
      "metadata": {
        "id": "1AM6yTMAP2JA",
        "colab_type": "code",
        "colab": {
          "base_uri": "https://localhost:8080/",
          "height": 68
        },
        "outputId": "8b74ac7c-7101-46a8-a4ef-4fed7a472b37"
      },
      "source": [
        "x_train = x_train.astype('float32')\n",
        "x_test = x_test.astype('float32')\n",
        "x_train /= 255\n",
        "x_test /= 255\n",
        "\n",
        "print('x_train shape:', x_train.shape)\n",
        "print(x_train.shape[0], 'train samples')\n",
        "print(x_test.shape[0], 'test samples')"
      ],
      "execution_count": 91,
      "outputs": [
        {
          "output_type": "stream",
          "text": [
            "x_train shape: (10000, 28, 28, 1)\n",
            "10000 train samples\n",
            "2000 test samples\n"
          ],
          "name": "stdout"
        }
      ]
    },
    {
      "cell_type": "code",
      "metadata": {
        "id": "j72mhhCiRDF6",
        "colab_type": "code",
        "colab": {
          "base_uri": "https://localhost:8080/",
          "height": 425
        },
        "outputId": "95464a39-6722-4e69-9619-019b4111922a"
      },
      "source": [
        "# Define model\n",
        "\n",
        "model = Sequential()\n",
        "model.add(Conv2D(32, kernel_size=(2, 2),activation='tanh',input_shape=input_shape))\n",
        "model.add(Conv2D(64, (2, 2), activation='tanh'))\n",
        "model.add(MaxPooling2D(pool_size=(2, 2)))\n",
        "model.add(Dropout(0.25))\n",
        "model.add(Flatten())\n",
        "model.add(Dense(128, activation='tanh'))\n",
        "model.add(Dropout(0.5))\n",
        "model.add(Dense(num_classes, activation='softmax'))\n",
        "model.summary()\n",
        "model.compile(loss=keras.losses.categorical_crossentropy,optimizer=keras.optimizers.Adadelta(),metrics=['accuracy'])\n"
      ],
      "execution_count": 92,
      "outputs": [
        {
          "output_type": "stream",
          "text": [
            "Model: \"sequential_18\"\n",
            "_________________________________________________________________\n",
            "Layer (type)                 Output Shape              Param #   \n",
            "=================================================================\n",
            "conv2d_35 (Conv2D)           (None, 27, 27, 32)        160       \n",
            "_________________________________________________________________\n",
            "conv2d_36 (Conv2D)           (None, 26, 26, 64)        8256      \n",
            "_________________________________________________________________\n",
            "max_pooling2d_18 (MaxPooling (None, 13, 13, 64)        0         \n",
            "_________________________________________________________________\n",
            "dropout_35 (Dropout)         (None, 13, 13, 64)        0         \n",
            "_________________________________________________________________\n",
            "flatten_18 (Flatten)         (None, 10816)             0         \n",
            "_________________________________________________________________\n",
            "dense_35 (Dense)             (None, 128)               1384576   \n",
            "_________________________________________________________________\n",
            "dropout_36 (Dropout)         (None, 128)               0         \n",
            "_________________________________________________________________\n",
            "dense_36 (Dense)             (None, 10)                1290      \n",
            "=================================================================\n",
            "Total params: 1,394,282\n",
            "Trainable params: 1,394,282\n",
            "Non-trainable params: 0\n",
            "_________________________________________________________________\n"
          ],
          "name": "stdout"
        }
      ]
    },
    {
      "cell_type": "markdown",
      "metadata": {
        "id": "1v-jUOGra2tS",
        "colab_type": "text"
      },
      "source": [
        "Take as a constraint a batch_size of 100 and an epoch size of 2. The model is, deliberatly, suboptimal. Improve in at least three ways. Report what these are, your seed number, and your final validation score. "
      ]
    },
    {
      "cell_type": "code",
      "metadata": {
        "id": "UiVsaDvcQ1z9",
        "colab_type": "code",
        "colab": {
          "base_uri": "https://localhost:8080/",
          "height": 136
        },
        "outputId": "3098725a-dfbc-4dfc-89ff-52f5d35f8518"
      },
      "source": [
        "batch_size = 100\n",
        "epochs = 2\n",
        "\n",
        "model.fit(x_train, y_train,batch_size=batch_size,epochs=epochs,verbose=1,validation_data=(x_val, y_val))"
      ],
      "execution_count": 93,
      "outputs": [
        {
          "output_type": "stream",
          "text": [
            "Train on 10000 samples, validate on 2000 samples\n",
            "Epoch 1/2\n",
            "10000/10000 [==============================] - 22s 2ms/step - loss: 0.5640 - acc: 0.8268 - val_loss: 0.5797 - val_acc: 0.8305\n",
            "Epoch 2/2\n",
            "10000/10000 [==============================] - 20s 2ms/step - loss: 0.2663 - acc: 0.9204 - val_loss: 0.6434 - val_acc: 0.8030\n",
            "Test loss: 0.12626013650000095\n",
            "Test accuracy: 0.9585\n"
          ],
          "name": "stdout"
        }
      ]
    }
  ]
}